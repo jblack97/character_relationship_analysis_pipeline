{
  "nbformat": 4,
  "nbformat_minor": 0,
  "metadata": {
    "colab": {
      "name": "process_dataframes.ipynb",
      "provenance": [],
      "collapsed_sections": []
    },
    "kernelspec": {
      "name": "python3",
      "display_name": "Python 3"
    },
    "language_info": {
      "name": "python"
    }
  },
  "cells": [
    {
      "cell_type": "code",
      "source": [
        "%%capture\n",
        "!pip install vaderSentiment"
      ],
      "metadata": {
        "id": "Q7ykXxT73N0K"
      },
      "execution_count": null,
      "outputs": []
    },
    {
      "cell_type": "code",
      "source": [
        "!git clone https://github.com/cpow24/character_relationship_analysis.git\n",
        "import pandas as pd\n",
        "import numpy as np\n",
        "from google.colab import drive\n",
        "import matplotlib.pyplot as plt\n",
        "import seaborn as sns\n",
        "import sys\n",
        "from vaderSentiment.vaderSentiment import SentimentIntensityAnalyzer\n",
        "sns.set_style('whitegrid', {'axes.linewidth': 1, 'axes.edgecolor':'black'})\n",
        "sys.path.append('character_relationship_analysis/data')"
      ],
      "metadata": {
        "id": "GiE_0PG1CNzi"
      },
      "execution_count": null,
      "outputs": []
    },
    {
      "cell_type": "code",
      "source": [
        "#Reading in and merging individual dataframes for analysis\n",
        "#New Model\n",
        "df1_new = pd.read_csv('character_relationship_analysis/data/final/sent_results/hp_final_sentiment_scores.csv')\n",
        "df2_new = pd.read_csv('character_relationship_analysis/data/final/sent_results/peter_pan_final_sentiment_scores.csv')\n",
        "df3_new = pd.read_csv('character_relationship_analysis/data/final/sent_results/winnie_the_pooh_final_sentiment_scores.csv')\n",
        "df4_new = pd.read_csv('character_relationship_analysis/data/final/sent_results/chocolate_factory_final_sentiment_scores.csv')\n",
        "df5_new = pd.read_csv('character_relationship_analysis/data/final/sent_results/dracula_final_sentiment_scores.csv')\n",
        "\n",
        "new_data = pd.concat([df1_new, df2_new, df3_new, df4_new, df5_new, df6_new])\n",
        "\n",
        "#Old Model\n",
        "df1_old = pd.read_csv('character_relationship_analysis/data/final/sent_results/harry_potter_sentiment_old_model.csv')\n",
        "df2_old = pd.read_csv('character_relationship_analysis/data/final/sent_results/sentiment_scores_old_model_1.csv')\n",
        "df3_old = pd.read_csv('character_relationship_analysis/data/final/sent_results/sentiment_scores_old_model_2.csv')\n",
        "\n",
        "old_data = pd.concat([df1_old, df2_old, df3_old])"
      ],
      "metadata": {
        "id": "iCRnJ3qSJJip"
      },
      "execution_count": null,
      "outputs": []
    },
    {
      "cell_type": "code",
      "source": [
        "#Sort Values and Drop Duplicates\n",
        "new_data.sort_values(by = ['title', 'pair', 'subject', 'object', 'sent_loc'], inplace=True)\n",
        "old_data.sort_values(by = ['title', 'pair', 'subject', 'object', 'sent_loc'], inplace=True)\n",
        "\n",
        "new_data.drop_duplicates(subset=['sentence', 'pair', 'sub_sent_vader'], inplace=True)\n",
        "old_data.drop_duplicates(subset=['sentence', 'pair', 'sub_sent_vader'], inplace=True)"
      ],
      "metadata": {
        "id": "YjHWrwncCZgU"
      },
      "execution_count": null,
      "outputs": []
    },
    {
      "cell_type": "code",
      "source": [
        "new_data.to_csv('character_relationship_analysis/data/sentiments_new_model.csv')\n",
        "old_data.to_csv('character_relationship_analysis/data/sentiments_old_model.csv')"
      ],
      "metadata": {
        "id": "fm_HBJQUORp_"
      },
      "execution_count": null,
      "outputs": []
    }
  ]
}