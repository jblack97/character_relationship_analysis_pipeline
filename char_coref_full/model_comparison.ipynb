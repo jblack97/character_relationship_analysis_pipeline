{
  "nbformat": 4,
  "nbformat_minor": 0,
  "metadata": {
    "colab": {
      "name": "model_comparison.ipynb",
      "provenance": [],
      "collapsed_sections": []
    },
    "kernelspec": {
      "name": "python3",
      "display_name": "Python 3"
    },
    "language_info": {
      "name": "python"
    },
    "accelerator": "GPU"
  },
  "cells": [
    {
      "cell_type": "code",
      "execution_count": null,
      "metadata": {
        "colab": {
          "base_uri": "https://localhost:8080/"
        },
        "id": "Cug6M2Ve3OFb",
        "outputId": "4795a6b2-2424-4906-8b26-52ffb4cf245e"
      },
      "outputs": [
        {
          "output_type": "stream",
          "name": "stdout",
          "text": [
            "Drive already mounted at /content/drive; to attempt to forcibly remount, call drive.mount(\"/content/drive\", force_remount=True).\n",
            "Requirement already satisfied: transformers in /usr/local/lib/python3.7/dist-packages (4.18.0)\n",
            "Requirement already satisfied: importlib-metadata in /usr/local/lib/python3.7/dist-packages (from transformers) (4.11.3)\n",
            "Requirement already satisfied: regex!=2019.12.17 in /usr/local/lib/python3.7/dist-packages (from transformers) (2019.12.20)\n",
            "Requirement already satisfied: requests in /usr/local/lib/python3.7/dist-packages (from transformers) (2.23.0)\n",
            "Requirement already satisfied: pyyaml>=5.1 in /usr/local/lib/python3.7/dist-packages (from transformers) (6.0)\n",
            "Requirement already satisfied: huggingface-hub<1.0,>=0.1.0 in /usr/local/lib/python3.7/dist-packages (from transformers) (0.5.1)\n",
            "Requirement already satisfied: tokenizers!=0.11.3,<0.13,>=0.11.1 in /usr/local/lib/python3.7/dist-packages (from transformers) (0.11.6)\n",
            "Requirement already satisfied: packaging>=20.0 in /usr/local/lib/python3.7/dist-packages (from transformers) (21.3)\n",
            "Requirement already satisfied: tqdm>=4.27 in /usr/local/lib/python3.7/dist-packages (from transformers) (4.63.0)\n",
            "Requirement already satisfied: sacremoses in /usr/local/lib/python3.7/dist-packages (from transformers) (0.0.49)\n",
            "Requirement already satisfied: filelock in /usr/local/lib/python3.7/dist-packages (from transformers) (3.6.0)\n",
            "Requirement already satisfied: numpy>=1.17 in /usr/local/lib/python3.7/dist-packages (from transformers) (1.21.5)\n",
            "Requirement already satisfied: typing-extensions>=3.7.4.3 in /usr/local/lib/python3.7/dist-packages (from huggingface-hub<1.0,>=0.1.0->transformers) (3.10.0.2)\n",
            "Requirement already satisfied: pyparsing!=3.0.5,>=2.0.2 in /usr/local/lib/python3.7/dist-packages (from packaging>=20.0->transformers) (3.0.7)\n",
            "Requirement already satisfied: zipp>=0.5 in /usr/local/lib/python3.7/dist-packages (from importlib-metadata->transformers) (3.7.0)\n",
            "Requirement already satisfied: certifi>=2017.4.17 in /usr/local/lib/python3.7/dist-packages (from requests->transformers) (2021.10.8)\n",
            "Requirement already satisfied: chardet<4,>=3.0.2 in /usr/local/lib/python3.7/dist-packages (from requests->transformers) (3.0.4)\n",
            "Requirement already satisfied: idna<3,>=2.5 in /usr/local/lib/python3.7/dist-packages (from requests->transformers) (2.10)\n",
            "Requirement already satisfied: urllib3!=1.25.0,!=1.25.1,<1.26,>=1.21.1 in /usr/local/lib/python3.7/dist-packages (from requests->transformers) (1.24.3)\n",
            "Requirement already satisfied: click in /usr/local/lib/python3.7/dist-packages (from sacremoses->transformers) (7.1.2)\n",
            "Requirement already satisfied: six in /usr/local/lib/python3.7/dist-packages (from sacremoses->transformers) (1.15.0)\n",
            "Requirement already satisfied: joblib in /usr/local/lib/python3.7/dist-packages (from sacremoses->transformers) (1.1.0)\n",
            "\u001b[31mERROR: Could not open requirements file: [Errno 2] No such file or directory: 'requirements.txt'\u001b[0m\n",
            "fatal: destination path 'reference-coreference-scorers' already exists and is not an empty directory.\n",
            "fatal: destination path 'lrec2020-coref' already exists and is not an empty directory.\n"
          ]
        }
      ],
      "source": [
        "from google.colab import drive\n",
        "import itertools\n",
        "drive.mount('/content/drive')\n",
        "\n",
        "!pip install transformers\n",
        "!pip install -r requirements.txt\n",
        "!git clone https://github.com/conll/reference-coreference-scorers\n",
        "!git clone https://github.com/dbamman/lrec2020-coref"
      ]
    },
    {
      "cell_type": "code",
      "source": [
        "%cd /content/drive/MyDrive/NLP_CW/LH/long-doc-coref_edit/src"
      ],
      "metadata": {
        "colab": {
          "base_uri": "https://localhost:8080/"
        },
        "id": "R2g77T333fPk",
        "outputId": "c3d456d6-5eb5-43c5-bd64-be24fe77a85e"
      },
      "execution_count": null,
      "outputs": [
        {
          "output_type": "stream",
          "name": "stdout",
          "text": [
            "/content/drive/.shortcut-targets-by-id/1GVWP5LpWabZMZpv1TUP_zN78uLXiJF-b/NLP_CW/LH/long-doc-coref_edit/src\n"
          ]
        }
      ]
    },
    {
      "cell_type": "code",
      "source": [
        "import torch"
      ],
      "metadata": {
        "id": "8pRIjRRcY1sT"
      },
      "execution_count": null,
      "outputs": []
    },
    {
      "cell_type": "code",
      "source": [
        "from auto_memory_model.main_class import main_class"
      ],
      "metadata": {
        "id": "M0pGq1FTxaPE"
      },
      "execution_count": null,
      "outputs": []
    },
    {
      "cell_type": "code",
      "source": [
        "#PAPER MODEL  LITBANK\n",
        "params ={'dataset': 'litbank','second_dataset' : None ,'mem_type': 'learned', 'cross_val_split': 3, 'max_training_segments': 5, 'seed': 0,\n",
        "         'mention_model': 'paper_mention', 'trainer': None, 'delete': False, 'crossval': False,'eval' : True, 'eval_model':'paper_model'}\n",
        "best_model = main_class(params)\n",
        "best_model.run()"
      ],
      "metadata": {
        "colab": {
          "base_uri": "https://localhost:8080/"
        },
        "id": "2h5lDE38fj3U",
        "outputId": "905050d2-b07b-41a2-e2cc-e688d5e088cb"
      },
      "execution_count": null,
      "outputs": [
        {
          "output_type": "stream",
          "name": "stderr",
          "text": [
            "2022-04-11 11:59:34,701 - dataset: litbank\n",
            "2022-04-11 11:59:34,709 - model_size: large\n",
            "2022-04-11 11:59:34,710 - doc_enc: overlap\n",
            "2022-04-11 11:59:34,718 - max_segment_len: 512\n",
            "2022-04-11 11:59:34,723 - max_span_width: 20\n",
            "2022-04-11 11:59:34,730 - ment_emb: attn\n",
            "2022-04-11 11:59:34,737 - top_span_ratio: 0.3\n",
            "2022-04-11 11:59:34,743 - mem_type: learned\n",
            "2022-04-11 11:59:34,749 - num_cells: 20\n",
            "2022-04-11 11:59:34,757 - mlp_size: 3000\n",
            "2022-04-11 11:59:34,767 - mlp_depth: 1\n",
            "2022-04-11 11:59:34,774 - entity_rep: wt_avg\n",
            "2022-04-11 11:59:34,779 - emb_size: 20\n",
            "2022-04-11 11:59:34,784 - cross_val_split: 3\n",
            "2022-04-11 11:59:34,791 - new_ent_wt: 2.0\n",
            "2022-04-11 11:59:34,796 - num_train_docs: None\n",
            "2022-04-11 11:59:34,801 - max_training_segments: 5\n",
            "2022-04-11 11:59:34,806 - sample_invalid: 0.25\n",
            "2022-04-11 11:59:34,811 - dropout_rate: 0.3\n",
            "2022-04-11 11:59:34,817 - label_smoothing_wt: 0.0\n",
            "2022-04-11 11:59:34,822 - seed: 0\n",
            "2022-04-11 11:59:34,828 - init_lr: 0.0002\n"
          ]
        },
        {
          "output_type": "stream",
          "name": "stdout",
          "text": [
            "../models/paper_model\n",
            "../data/litbank/overlap/3\n",
            "../models/paper_mention/best_models/model.pth\n",
            "../data/litbank/overlap/3\n",
            "../data/litbank/overlap/3 ../data/litbank/overlap/3/train.512.jsonlines\n",
            "../data/litbank/overlap/3\n",
            "../data/litbank/overlap/3 ../data/litbank/overlap/3/dev.512.jsonlines\n",
            "../data/litbank/overlap/3\n",
            "../data/litbank/overlap/3 ../data/litbank/overlap/3/test.512.jsonlines\n",
            "Found pretrained model!!\n",
            "mention_attn.weight torch.Size([1, 1024])\n",
            "mention_attn.bias torch.Size([1])\n",
            "span_width_embeddings.weight torch.Size([20, 20])\n",
            "span_width_prior_embeddings.weight torch.Size([20, 20])\n",
            "mention_mlp.fc_layers.0.weight torch.Size([3000, 3092])\n",
            "mention_mlp.fc_layers.0.bias torch.Size([3000])\n",
            "mention_mlp.fc_layers.3.weight torch.Size([1, 3000])\n",
            "mention_mlp.fc_layers.3.bias torch.Size([1])\n",
            "span_width_mlp.fc_layers.0.weight torch.Size([3000, 20])\n",
            "span_width_mlp.fc_layers.0.bias torch.Size([3000])\n",
            "span_width_mlp.fc_layers.3.weight torch.Size([1, 3000])\n",
            "span_width_mlp.fc_layers.3.bias torch.Size([1])\n",
            "memory_net.mem_coref_mlp.fc_layers.0.weight torch.Size([3000, 9336])\n",
            "memory_net.mem_coref_mlp.fc_layers.0.bias torch.Size([3000])\n",
            "memory_net.mem_coref_mlp.fc_layers.3.weight torch.Size([1, 3000])\n",
            "memory_net.mem_coref_mlp.fc_layers.3.bias torch.Size([1])\n",
            "memory_net.last_action_embeddings.weight torch.Size([5, 20])\n",
            "memory_net.distance_embeddings.weight torch.Size([10, 20])\n",
            "memory_net.counter_embeddings.weight torch.Size([10, 20])\n",
            "memory_net.fert_mlp.fc_layers.0.weight torch.Size([3000, 3152])\n",
            "memory_net.fert_mlp.fc_layers.0.bias torch.Size([3000])\n",
            "memory_net.fert_mlp.fc_layers.3.weight torch.Size([1, 3000])\n",
            "memory_net.fert_mlp.fc_layers.3.bias torch.Size([1])\n",
            "\n",
            "Total Params:46.83 (in millions)\n"
          ]
        },
        {
          "output_type": "stream",
          "name": "stderr",
          "text": [
            "2022-04-11 11:59:43,132 - Loading best model after epoch: 16\n",
            "2022-04-11 11:59:43,137 - \n",
            "\n",
            "2022-04-11 11:59:43,138 - Dev\n",
            "2022-04-11 12:00:10,936 - F-score: 77.3 , Precision: 79.4 , Recall: 75.4 \n",
            "2022-04-11 12:00:10,941 - Action accuracy: 0.656, Oracle F-score: 0.989\n",
            "2022-04-11 12:00:10,942 - ../models/paper_model/dev.log.jsonl\n",
            "2022-04-11 12:00:10,952 - Calculated F1: 77.300\n",
            "2022-04-11 12:00:10,954 - \n",
            "\n",
            "2022-04-11 12:00:10,960 - Test\n"
          ]
        },
        {
          "output_type": "stream",
          "name": "stdout",
          "text": [
            "Ground Truth Actions: defaultdict(<class 'int'>, {'i': 4123, 'o': 674, 'c': 1994})\n",
            "Predicted Actions: defaultdict(<class 'int'>, {'i': 4169, 'o': 659, 'c': 1963})\n"
          ]
        },
        {
          "output_type": "stream",
          "name": "stderr",
          "text": [
            "2022-04-11 12:00:41,423 - F-score: 76.6 , Precision: 79.0 , Recall: 74.2 \n",
            "2022-04-11 12:00:41,426 - Action accuracy: 0.640, Oracle F-score: 0.980\n",
            "2022-04-11 12:00:41,430 - ../models/paper_model/test.log.jsonl\n",
            "2022-04-11 12:00:41,446 - Final performance summary at ../models/paper_model/perf.json\n"
          ]
        },
        {
          "output_type": "stream",
          "name": "stdout",
          "text": [
            "Ground Truth Actions: defaultdict(<class 'int'>, {'o': 787, 'i': 4517, 'c': 1913})\n",
            "Predicted Actions: defaultdict(<class 'int'>, {'o': 793, 'i': 4591, 'c': 1833})\n"
          ]
        }
      ]
    },
    {
      "cell_type": "code",
      "source": [
        "#PAPER MODEL NEW DATASET\n",
        "params ={'dataset': 'litbank_person_only','second_dataset' : None ,'mem_type': 'learned', 'cross_val_split': 3, 'max_training_segments': 5, 'seed': 0,\n",
        "         'mention_model': 'paper_mention', 'trainer': None, 'delete': False, 'crossval': False,'eval' : True, 'eval_model':'paper_model'}\n",
        "best_model = main_class(params)\n",
        "best_model.run()"
      ],
      "metadata": {
        "colab": {
          "base_uri": "https://localhost:8080/"
        },
        "id": "K2mgc-mQQ8c-",
        "outputId": "b6d8dc76-8e41-4de5-ddd4-5eab4f6135d2"
      },
      "execution_count": null,
      "outputs": [
        {
          "output_type": "stream",
          "name": "stderr",
          "text": [
            "2022-04-09 19:25:26,812 - dataset: litbank_person_only\n",
            "2022-04-09 19:25:26,814 - model_size: large\n",
            "2022-04-09 19:25:26,818 - doc_enc: overlap\n",
            "2022-04-09 19:25:26,819 - max_segment_len: 512\n",
            "2022-04-09 19:25:26,821 - max_span_width: 20\n",
            "2022-04-09 19:25:26,824 - ment_emb: attn\n",
            "2022-04-09 19:25:26,826 - top_span_ratio: 0.3\n",
            "2022-04-09 19:25:26,827 - mem_type: learned\n",
            "2022-04-09 19:25:26,828 - num_cells: 20\n",
            "2022-04-09 19:25:26,829 - mlp_size: 3000\n",
            "2022-04-09 19:25:26,830 - mlp_depth: 1\n",
            "2022-04-09 19:25:26,832 - entity_rep: wt_avg\n",
            "2022-04-09 19:25:26,833 - emb_size: 20\n",
            "2022-04-09 19:25:26,834 - cross_val_split: 3\n",
            "2022-04-09 19:25:26,835 - new_ent_wt: 2.0\n",
            "2022-04-09 19:25:26,837 - num_train_docs: None\n",
            "2022-04-09 19:25:26,837 - max_training_segments: 5\n",
            "2022-04-09 19:25:26,841 - sample_invalid: 0.25\n",
            "2022-04-09 19:25:26,844 - dropout_rate: 0.3\n",
            "2022-04-09 19:25:26,845 - label_smoothing_wt: 0.0\n",
            "2022-04-09 19:25:26,848 - seed: 0\n",
            "2022-04-09 19:25:26,849 - init_lr: 0.0002\n"
          ]
        },
        {
          "output_type": "stream",
          "name": "stdout",
          "text": [
            "../models/paper_model\n",
            "../data/litbank_person_only/overlap/3\n",
            "../models/paper_mention/best_models/model.pth\n",
            "../data/litbank_person_only/overlap/3\n",
            "../data/litbank_person_only/overlap/3 ../data/litbank_person_only/overlap/3/train.512.jsonlines\n",
            "../data/litbank_person_only/overlap/3\n",
            "../data/litbank_person_only/overlap/3 ../data/litbank_person_only/overlap/3/dev.512.jsonlines\n",
            "../data/litbank_person_only/overlap/3\n",
            "../data/litbank_person_only/overlap/3 ../data/litbank_person_only/overlap/3/test.512.jsonlines\n",
            "Found pretrained model!!\n",
            "mention_attn.weight torch.Size([1, 1024])\n",
            "mention_attn.bias torch.Size([1])\n",
            "span_width_embeddings.weight torch.Size([20, 20])\n",
            "span_width_prior_embeddings.weight torch.Size([20, 20])\n",
            "mention_mlp.fc_layers.0.weight torch.Size([3000, 3092])\n",
            "mention_mlp.fc_layers.0.bias torch.Size([3000])\n",
            "mention_mlp.fc_layers.3.weight torch.Size([1, 3000])\n",
            "mention_mlp.fc_layers.3.bias torch.Size([1])\n",
            "span_width_mlp.fc_layers.0.weight torch.Size([3000, 20])\n",
            "span_width_mlp.fc_layers.0.bias torch.Size([3000])\n",
            "span_width_mlp.fc_layers.3.weight torch.Size([1, 3000])\n",
            "span_width_mlp.fc_layers.3.bias torch.Size([1])\n",
            "memory_net.mem_coref_mlp.fc_layers.0.weight torch.Size([3000, 9336])\n",
            "memory_net.mem_coref_mlp.fc_layers.0.bias torch.Size([3000])\n",
            "memory_net.mem_coref_mlp.fc_layers.3.weight torch.Size([1, 3000])\n",
            "memory_net.mem_coref_mlp.fc_layers.3.bias torch.Size([1])\n",
            "memory_net.last_action_embeddings.weight torch.Size([5, 20])\n",
            "memory_net.distance_embeddings.weight torch.Size([10, 20])\n",
            "memory_net.counter_embeddings.weight torch.Size([10, 20])\n",
            "memory_net.fert_mlp.fc_layers.0.weight torch.Size([3000, 3152])\n",
            "memory_net.fert_mlp.fc_layers.0.bias torch.Size([3000])\n",
            "memory_net.fert_mlp.fc_layers.3.weight torch.Size([1, 3000])\n",
            "memory_net.fert_mlp.fc_layers.3.bias torch.Size([1])\n",
            "\n",
            "Total Params:46.83 (in millions)\n"
          ]
        },
        {
          "output_type": "stream",
          "name": "stderr",
          "text": [
            "2022-04-09 19:25:35,450 - Loading best model after epoch: 16\n",
            "2022-04-09 19:25:35,452 - \n",
            "\n",
            "2022-04-09 19:25:35,456 - Dev\n",
            "2022-04-09 19:25:59,884 - F-score: 70.0 , Precision: 63.4 , Recall: 78.9 \n",
            "2022-04-09 19:25:59,891 - Action accuracy: 0.623, Oracle F-score: 0.992\n",
            "2022-04-09 19:25:59,892 - ../models/paper_model/dev.log.jsonl\n",
            "2022-04-09 19:25:59,900 - Calculated F1: 70.000\n",
            "2022-04-09 19:25:59,902 - \n",
            "\n",
            "2022-04-09 19:25:59,904 - Test\n"
          ]
        },
        {
          "output_type": "stream",
          "name": "stdout",
          "text": [
            "Ground Truth Actions: defaultdict(<class 'int'>, {'i': 4947, 'o': 411, 'c': 1730})\n",
            "Predicted Actions: defaultdict(<class 'int'>, {'i': 4464, 'o': 657, 'c': 1967})\n"
          ]
        },
        {
          "output_type": "stream",
          "name": "stderr",
          "text": [
            "2022-04-09 19:26:26,074 - F-score: 66.5 , Precision: 58.4 , Recall: 78.6 \n",
            "2022-04-09 19:26:26,081 - Action accuracy: 0.669, Oracle F-score: 0.982\n",
            "2022-04-09 19:26:26,082 - ../models/paper_model/test.log.jsonl\n"
          ]
        },
        {
          "output_type": "stream",
          "name": "stdout",
          "text": [
            "Ground Truth Actions: defaultdict(<class 'int'>, {'o': 421, 'i': 5497, 'c': 1547})\n",
            "Predicted Actions: defaultdict(<class 'int'>, {'o': 789, 'i': 4836, 'c': 1840})\n"
          ]
        },
        {
          "output_type": "stream",
          "name": "stderr",
          "text": [
            "2022-04-09 19:26:26,669 - Final performance summary at ../models/paper_model/perf.json\n"
          ]
        }
      ]
    },
    {
      "cell_type": "code",
      "source": [
        "#NEW MENTION AND MEMORY, PAPER COREF\n",
        "params ={'dataset': 'litbank_person_only','second_dataset' : 'litbank_person_only' ,'mem_type': 'learned', 'cross_val_split': 3, 'max_training_segments': 5, 'seed': 0,\n",
        "         'mention_model': 'ment_litbank_person_only_width_20_mlp_3000_model_large_emb_attn_type_spanbert_enc_overlap_segment_512', 'trainer': None, 'delete': False, 'crossval': False,'eval' : True, \n",
        "         'eval_model':'test_paper_coref', 'teacher_forcing' : True}\n",
        "best_model = main_class(params)\n",
        "best_model.run()"
      ],
      "metadata": {
        "colab": {
          "base_uri": "https://localhost:8080/"
        },
        "id": "I4u24obDrmnm",
        "outputId": "dbad7a56-bbaa-4e12-d092-57511257aa49"
      },
      "execution_count": null,
      "outputs": [
        {
          "output_type": "stream",
          "name": "stderr",
          "text": [
            "2022-04-11 15:01:09,668 - dataset: litbank_person_only\n",
            "2022-04-11 15:01:09,670 - model_size: large\n",
            "2022-04-11 15:01:09,671 - doc_enc: overlap\n",
            "2022-04-11 15:01:09,673 - max_segment_len: 512\n",
            "2022-04-11 15:01:09,676 - max_span_width: 20\n",
            "2022-04-11 15:01:09,678 - ment_emb: attn\n",
            "2022-04-11 15:01:09,683 - top_span_ratio: 0.3\n",
            "2022-04-11 15:01:09,685 - mem_type: learned\n",
            "2022-04-11 15:01:09,687 - num_cells: 20\n",
            "2022-04-11 15:01:09,688 - mlp_size: 3000\n",
            "2022-04-11 15:01:09,690 - mlp_depth: 1\n",
            "2022-04-11 15:01:09,694 - entity_rep: wt_avg\n",
            "2022-04-11 15:01:09,696 - emb_size: 20\n",
            "2022-04-11 15:01:09,697 - cross_val_split: 3\n",
            "2022-04-11 15:01:09,701 - new_ent_wt: 2.0\n",
            "2022-04-11 15:01:09,703 - num_train_docs: None\n",
            "2022-04-11 15:01:09,704 - max_training_segments: 5\n",
            "2022-04-11 15:01:09,708 - sample_invalid: 0.25\n",
            "2022-04-11 15:01:09,710 - dropout_rate: 0.3\n",
            "2022-04-11 15:01:09,711 - label_smoothing_wt: 0.0\n",
            "2022-04-11 15:01:09,714 - seed: 0\n",
            "2022-04-11 15:01:09,716 - init_lr: 0.0002\n"
          ]
        },
        {
          "output_type": "stream",
          "name": "stdout",
          "text": [
            "../models/test_paper_coref\n",
            "../data/litbank_person_only/overlap/3\n",
            "../models/ment_litbank_person_only_width_20_mlp_3000_model_large_emb_attn_type_spanbert_enc_overlap_segment_512/best_models/model.pth\n",
            "../data/litbank_person_only/overlap/3\n",
            "../data/litbank_person_only/overlap/3 ../data/litbank_person_only/overlap/3/train.512.jsonlines\n",
            "../data/litbank_person_only/overlap/3\n",
            "../data/litbank_person_only/overlap/3 ../data/litbank_person_only/overlap/3/dev.512.jsonlines\n",
            "../data/litbank_person_only/overlap/3\n",
            "../data/litbank_person_only/overlap/3 ../data/litbank_person_only/overlap/3/test.512.jsonlines\n",
            "Found pretrained model!!\n",
            "mention_attn.weight torch.Size([1, 1024])\n",
            "mention_attn.bias torch.Size([1])\n",
            "span_width_embeddings.weight torch.Size([20, 20])\n",
            "span_width_prior_embeddings.weight torch.Size([20, 20])\n",
            "mention_mlp.fc_layers.0.weight torch.Size([3000, 3092])\n",
            "mention_mlp.fc_layers.0.bias torch.Size([3000])\n",
            "mention_mlp.fc_layers.3.weight torch.Size([1, 3000])\n",
            "mention_mlp.fc_layers.3.bias torch.Size([1])\n",
            "span_width_mlp.fc_layers.0.weight torch.Size([3000, 20])\n",
            "span_width_mlp.fc_layers.0.bias torch.Size([3000])\n",
            "span_width_mlp.fc_layers.3.weight torch.Size([1, 3000])\n",
            "span_width_mlp.fc_layers.3.bias torch.Size([1])\n",
            "memory_net.mem_coref_mlp.fc_layers.0.weight torch.Size([3000, 9336])\n",
            "memory_net.mem_coref_mlp.fc_layers.0.bias torch.Size([3000])\n",
            "memory_net.mem_coref_mlp.fc_layers.3.weight torch.Size([1, 3000])\n",
            "memory_net.mem_coref_mlp.fc_layers.3.bias torch.Size([1])\n",
            "memory_net.last_action_embeddings.weight torch.Size([5, 20])\n",
            "memory_net.distance_embeddings.weight torch.Size([10, 20])\n",
            "memory_net.counter_embeddings.weight torch.Size([10, 20])\n",
            "memory_net.fert_mlp.fc_layers.0.weight torch.Size([3000, 3152])\n",
            "memory_net.fert_mlp.fc_layers.0.bias torch.Size([3000])\n",
            "memory_net.fert_mlp.fc_layers.3.weight torch.Size([1, 3000])\n",
            "memory_net.fert_mlp.fc_layers.3.bias torch.Size([1])\n",
            "\n",
            "Total Params:46.83 (in millions)\n"
          ]
        },
        {
          "output_type": "stream",
          "name": "stderr",
          "text": [
            "2022-04-11 15:01:18,161 - Loading best model after epoch: 16\n",
            "2022-04-11 15:01:18,163 - \n",
            "\n",
            "2022-04-11 15:01:18,167 - Dev\n",
            "2022-04-11 15:01:48,564 - F-score: 72.0 , Precision: 75.2 , Recall: 69.1 \n",
            "2022-04-11 15:01:48,572 - Action accuracy: 0.700, Oracle F-score: 0.992\n",
            "2022-04-11 15:01:48,573 - ../models/test_paper_coref/dev.log.jsonl\n",
            "2022-04-11 15:01:48,584 - Calculated F1: 72.000\n",
            "2022-04-11 15:01:48,586 - \n",
            "\n",
            "2022-04-11 15:01:48,592 - Test\n"
          ]
        },
        {
          "output_type": "stream",
          "name": "stdout",
          "text": [
            "Ground Truth Actions: defaultdict(<class 'int'>, {'i': 4947, 'o': 411, 'c': 1730})\n",
            "Predicted Actions: defaultdict(<class 'int'>, {'i': 4753, 'o': 246, 'c': 2085, 'n': 4})\n"
          ]
        },
        {
          "output_type": "stream",
          "name": "stderr",
          "text": [
            "2022-04-11 15:02:21,218 - F-score: 70.9 , Precision: 74.8 , Recall: 67.3 \n",
            "2022-04-11 15:02:21,221 - Action accuracy: 0.696, Oracle F-score: 0.982\n",
            "2022-04-11 15:02:21,224 - ../models/test_paper_coref/test.log.jsonl\n",
            "2022-04-11 15:02:21,244 - Final performance summary at ../models/test_paper_coref/perf.json\n"
          ]
        },
        {
          "output_type": "stream",
          "name": "stdout",
          "text": [
            "Ground Truth Actions: defaultdict(<class 'int'>, {'o': 421, 'i': 5497, 'c': 1547})\n",
            "Predicted Actions: defaultdict(<class 'int'>, {'o': 252, 'i': 5285, 'c': 1924, 'n': 4})\n"
          ]
        }
      ]
    },
    {
      "cell_type": "code",
      "source": [
        "#NEW COREF\n",
        "params =  {'dataset': 'litbank_person_only', 'mem_type': 'learned', 'num_cells': 20, 'top_span_ratio': 0.25, 'max_span_width': 20, 'max_epochs': 25, \n",
        "           'dropout_rate': 0.3, 'sample_invalid': 0.325, 'new_ent_wt': 2.0, 'cross_val_split': 3, 'max_training_segments': 5, 'seed': 0, \n",
        "           'mention_model': 'ment_litbank_person_only_width_20_mlp_3000_model_large_emb_attn_type_spanbert_enc_overlap_segment_512', \n",
        "           'eval_model': 'coref_cf6f3a912a174626f5eec9531ebce613', 'trainer': None, 'delete': False, 'eval' : True} \n",
        "best_model = main_class(params)\n",
        "best_model.run()"
      ],
      "metadata": {
        "colab": {
          "base_uri": "https://localhost:8080/"
        },
        "id": "XheGKl9pcmHR",
        "outputId": "2f249ee8-8165-4e8e-bf70-1c206e22453f"
      },
      "execution_count": null,
      "outputs": [
        {
          "output_type": "stream",
          "name": "stderr",
          "text": [
            "2022-04-11 11:46:32,553 - dataset: litbank_person_only\n",
            "2022-04-11 11:46:32,555 - model_size: large\n",
            "2022-04-11 11:46:32,556 - doc_enc: overlap\n",
            "2022-04-11 11:46:32,558 - max_segment_len: 512\n",
            "2022-04-11 11:46:32,562 - max_span_width: 20\n",
            "2022-04-11 11:46:32,565 - ment_emb: attn\n",
            "2022-04-11 11:46:32,567 - top_span_ratio: 0.25\n",
            "2022-04-11 11:46:32,569 - mem_type: learned\n",
            "2022-04-11 11:46:32,573 - num_cells: 20\n",
            "2022-04-11 11:46:32,574 - mlp_size: 3000\n",
            "2022-04-11 11:46:32,578 - mlp_depth: 1\n",
            "2022-04-11 11:46:32,580 - entity_rep: wt_avg\n",
            "2022-04-11 11:46:32,584 - emb_size: 20\n",
            "2022-04-11 11:46:32,586 - cross_val_split: 3\n",
            "2022-04-11 11:46:32,591 - new_ent_wt: 2.0\n",
            "2022-04-11 11:46:32,594 - num_train_docs: None\n",
            "2022-04-11 11:46:32,599 - max_training_segments: 5\n",
            "2022-04-11 11:46:32,601 - sample_invalid: 0.325\n",
            "2022-04-11 11:46:32,606 - dropout_rate: 0.3\n",
            "2022-04-11 11:46:32,610 - label_smoothing_wt: 0.0\n",
            "2022-04-11 11:46:32,616 - seed: 0\n",
            "2022-04-11 11:46:32,619 - init_lr: 0.0002\n"
          ]
        },
        {
          "output_type": "stream",
          "name": "stdout",
          "text": [
            "../models/coref_cf6f3a912a174626f5eec9531ebce613\n",
            "../data/litbank_person_only/overlap/3\n",
            "../models/ment_litbank_person_only_width_20_mlp_3000_model_large_emb_attn_type_spanbert_enc_overlap_segment_512/best_models/model.pth\n",
            "../data/litbank_person_only/overlap/3\n",
            "../data/litbank_person_only/overlap/3 ../data/litbank_person_only/overlap/3/train.512.jsonlines\n",
            "../data/litbank_person_only/overlap/3\n",
            "../data/litbank_person_only/overlap/3 ../data/litbank_person_only/overlap/3/dev.512.jsonlines\n",
            "../data/litbank_person_only/overlap/3\n",
            "../data/litbank_person_only/overlap/3 ../data/litbank_person_only/overlap/3/test.512.jsonlines\n"
          ]
        },
        {
          "output_type": "stream",
          "name": "stderr",
          "text": [
            "2022-04-11 11:46:41,017 - Loading previous model: ../models/coref_cf6f3a912a174626f5eec9531ebce613/best_models/model.pth\n"
          ]
        },
        {
          "output_type": "stream",
          "name": "stdout",
          "text": [
            "Found pretrained model!!\n",
            "mention_attn.weight torch.Size([1, 1024])\n",
            "mention_attn.bias torch.Size([1])\n",
            "span_width_embeddings.weight torch.Size([20, 20])\n",
            "span_width_prior_embeddings.weight torch.Size([20, 20])\n",
            "mention_mlp.fc_layers.0.weight torch.Size([3000, 3092])\n",
            "mention_mlp.fc_layers.0.bias torch.Size([3000])\n",
            "mention_mlp.fc_layers.3.weight torch.Size([1, 3000])\n",
            "mention_mlp.fc_layers.3.bias torch.Size([1])\n",
            "span_width_mlp.fc_layers.0.weight torch.Size([3000, 20])\n",
            "span_width_mlp.fc_layers.0.bias torch.Size([3000])\n",
            "span_width_mlp.fc_layers.3.weight torch.Size([1, 3000])\n",
            "span_width_mlp.fc_layers.3.bias torch.Size([1])\n",
            "memory_net.mem_coref_mlp.fc_layers.0.weight torch.Size([3000, 9336])\n",
            "memory_net.mem_coref_mlp.fc_layers.0.bias torch.Size([3000])\n",
            "memory_net.mem_coref_mlp.fc_layers.3.weight torch.Size([1, 3000])\n",
            "memory_net.mem_coref_mlp.fc_layers.3.bias torch.Size([1])\n",
            "memory_net.last_action_embeddings.weight torch.Size([5, 20])\n",
            "memory_net.distance_embeddings.weight torch.Size([10, 20])\n",
            "memory_net.counter_embeddings.weight torch.Size([10, 20])\n",
            "memory_net.fert_mlp.fc_layers.0.weight torch.Size([3000, 3152])\n",
            "memory_net.fert_mlp.fc_layers.0.bias torch.Size([3000])\n",
            "memory_net.fert_mlp.fc_layers.3.weight torch.Size([1, 3000])\n",
            "memory_net.fert_mlp.fc_layers.3.bias torch.Size([1])\n",
            "\n",
            "Total Params:46.83 (in millions)\n"
          ]
        },
        {
          "output_type": "stream",
          "name": "stderr",
          "text": [
            "2022-04-11 11:46:43,284 - Loading best model after epoch: 8\n",
            "2022-04-11 11:46:43,286 - \n",
            "\n",
            "2022-04-11 11:46:43,291 - Dev\n",
            "2022-04-11 11:47:10,165 - F-score: 75.9 , Precision: 77.0 , Recall: 75.0 \n",
            "2022-04-11 11:47:10,167 - Action accuracy: 0.719, Oracle F-score: 0.991\n",
            "2022-04-11 11:47:10,172 - ../models/coref_cf6f3a912a174626f5eec9531ebce613/dev.log.jsonl\n",
            "2022-04-11 11:47:10,180 - Calculated F1: 75.900\n",
            "2022-04-11 11:47:10,186 - \n",
            "\n",
            "2022-04-11 11:47:10,189 - Test\n"
          ]
        },
        {
          "output_type": "stream",
          "name": "stdout",
          "text": [
            "Ground Truth Actions: defaultdict(<class 'int'>, {'i': 3767, 'o': 411, 'c': 1727})\n",
            "Predicted Actions: defaultdict(<class 'int'>, {'i': 3750, 'o': 379, 'c': 1776})\n"
          ]
        },
        {
          "output_type": "stream",
          "name": "stderr",
          "text": [
            "2022-04-11 11:47:38,985 - F-score: 75.6 , Precision: 76.5 , Recall: 74.8 \n",
            "2022-04-11 11:47:38,988 - Action accuracy: 0.703, Oracle F-score: 0.981\n",
            "2022-04-11 11:47:38,992 - ../models/coref_cf6f3a912a174626f5eec9531ebce613/test.log.jsonl\n"
          ]
        },
        {
          "output_type": "stream",
          "name": "stdout",
          "text": [
            "Ground Truth Actions: defaultdict(<class 'int'>, {'o': 419, 'i': 4259, 'c': 1543})\n",
            "Predicted Actions: defaultdict(<class 'int'>, {'o': 395, 'i': 4249, 'c': 1577})\n"
          ]
        },
        {
          "output_type": "execute_result",
          "data": {
            "text/plain": [
              "{'base_data_dir': '../data/',\n",
              " 'base_model_dir': '../models',\n",
              " 'best_model_dir': '../models/coref_cf6f3a912a174626f5eec9531ebce613/best_models',\n",
              " 'conll_data_dir': '../data/litbank_person_only/conll/3',\n",
              " 'conll_scorer': '../reference-coreference-scorer/scorer.pl',\n",
              " 'cross_val_split': 3,\n",
              " 'crossval': True,\n",
              " 'data_dir': '../data/litbank_person_only/overlap/3',\n",
              " 'dataset': 'litbank_person_only',\n",
              " 'delete': False,\n",
              " 'dev': OrderedDict([('MUC',\n",
              "               OrderedDict([('recall', 89.5),\n",
              "                            ('precision', 87.8),\n",
              "                            ('fscore', 88.7)])),\n",
              "              ('Bcub',\n",
              "               OrderedDict([('recall', 74.9),\n",
              "                            ('precision', 76.2),\n",
              "                            ('fscore', 75.5)])),\n",
              "              ('CEAFE',\n",
              "               OrderedDict([('recall', 60.6),\n",
              "                            ('precision', 67.1),\n",
              "                            ('fscore', 63.7)])),\n",
              "              ('fscore', 75.9),\n",
              "              ('precision', 77.0)]),\n",
              " 'doc_enc': 'overlap',\n",
              " 'dropout_rate': 0.3,\n",
              " 'emb_size': 20,\n",
              " 'entity_rep': 'wt_avg',\n",
              " 'eval': True,\n",
              " 'eval_model': 'coref_cf6f3a912a174626f5eec9531ebce613',\n",
              " 'init_lr': 0.0002,\n",
              " 'label_smoothing_wt': 0.0,\n",
              " 'max_epochs': 25,\n",
              " 'max_segment_len': 512,\n",
              " 'max_span_width': 20,\n",
              " 'max_training_segments': 5,\n",
              " 'mem_type': 'learned',\n",
              " 'ment_emb': 'attn',\n",
              " 'mention_model': 'ment_litbank_person_only_width_20_mlp_3000_model_large_emb_attn_type_spanbert_enc_overlap_segment_512',\n",
              " 'mlp_depth': 1,\n",
              " 'mlp_size': 3000,\n",
              " 'model_dir': '../models/coref_cf6f3a912a174626f5eec9531ebce613',\n",
              " 'model_size': 'large',\n",
              " 'new_ent_wt': 2.0,\n",
              " 'no_singletons': False,\n",
              " 'num_cells': 20,\n",
              " 'num_train_docs': None,\n",
              " 'pretrained_bert_dir': '../resources',\n",
              " 'pretrained_mention_model': '../models/ment_litbank_person_only_width_20_mlp_3000_model_large_emb_attn_type_spanbert_enc_overlap_segment_512/best_models/model.pth',\n",
              " 'sample_invalid': 0.325,\n",
              " 'seed': 0,\n",
              " 'slurm_id': None,\n",
              " 'test': OrderedDict([('MUC',\n",
              "               OrderedDict([('recall', 87.1),\n",
              "                            ('precision', 87.0),\n",
              "                            ('fscore', 87.0)])),\n",
              "              ('Bcub',\n",
              "               OrderedDict([('recall', 75.6),\n",
              "                            ('precision', 73.9),\n",
              "                            ('fscore', 74.7)])),\n",
              "              ('CEAFE',\n",
              "               OrderedDict([('recall', 61.8),\n",
              "                            ('precision', 68.7),\n",
              "                            ('fscore', 65.1)])),\n",
              "              ('fscore', 75.6),\n",
              "              ('precision', 76.5)]),\n",
              " 'top_span_ratio': 0.25,\n",
              " 'trainer': None}"
            ]
          },
          "metadata": {},
          "execution_count": 13
        }
      ]
    },
    {
      "cell_type": "code",
      "source": [
        "#new coref litbank\n",
        "params ={'dataset': 'litbank','second_dataset' : 'litbank_person_only' ,'mem_type': 'learned', 'cross_val_split': 3, 'max_training_segments': 5, 'seed': 0,\n",
        "         'mention_model': 'ment_litbank_person_only_width_20_mlp_3000_model_large_emb_attn_type_spanbert_enc_overlap_segment_512', 'trainer': None, 'delete': False, 'crossval': False,'eval' : True, \n",
        "         'eval_model':'coref_cf6f3a912a174626f5eec9531ebce613', 'teacher_forcing' : True}\n",
        "best_model = main_class(params)\n",
        "best_model.run()"
      ],
      "metadata": {
        "colab": {
          "base_uri": "https://localhost:8080/"
        },
        "id": "Npj3tW3RxiyC",
        "outputId": "bf747c41-9d6b-472d-9043-a8c1bb8fbd51"
      },
      "execution_count": null,
      "outputs": [
        {
          "output_type": "stream",
          "name": "stderr",
          "text": [
            "2022-04-11 13:18:43,095 - dataset: litbank\n",
            "2022-04-11 13:18:43,098 - model_size: large\n",
            "2022-04-11 13:18:43,100 - doc_enc: overlap\n",
            "2022-04-11 13:18:43,105 - max_segment_len: 512\n",
            "2022-04-11 13:18:43,107 - max_span_width: 20\n",
            "2022-04-11 13:18:43,109 - ment_emb: attn\n",
            "2022-04-11 13:18:43,113 - top_span_ratio: 0.3\n",
            "2022-04-11 13:18:43,114 - mem_type: learned\n",
            "2022-04-11 13:18:43,116 - num_cells: 20\n",
            "2022-04-11 13:18:43,119 - mlp_size: 3000\n",
            "2022-04-11 13:18:43,122 - mlp_depth: 1\n",
            "2022-04-11 13:18:43,124 - entity_rep: wt_avg\n",
            "2022-04-11 13:18:43,127 - emb_size: 20\n",
            "2022-04-11 13:18:43,130 - cross_val_split: 3\n",
            "2022-04-11 13:18:43,132 - new_ent_wt: 2.0\n",
            "2022-04-11 13:18:43,134 - num_train_docs: None\n",
            "2022-04-11 13:18:43,137 - max_training_segments: 5\n",
            "2022-04-11 13:18:43,142 - sample_invalid: 0.25\n",
            "2022-04-11 13:18:43,144 - dropout_rate: 0.3\n",
            "2022-04-11 13:18:43,146 - label_smoothing_wt: 0.0\n",
            "2022-04-11 13:18:43,149 - seed: 0\n",
            "2022-04-11 13:18:43,151 - init_lr: 0.0002\n"
          ]
        },
        {
          "output_type": "stream",
          "name": "stdout",
          "text": [
            "../models/coref_04657d4d68300a4a7cb80b08a21103ea\n",
            "../data/litbank/overlap/3\n",
            "../models/ment_litbank_person_only_width_20_mlp_3000_model_large_emb_attn_type_spanbert_enc_overlap_segment_512/best_models/model.pth\n",
            "../data/litbank/overlap/3\n",
            "../data/litbank/overlap/3 ../data/litbank/overlap/3/train.512.jsonlines\n",
            "../data/litbank/overlap/3\n",
            "../data/litbank/overlap/3 ../data/litbank/overlap/3/dev.512.jsonlines\n",
            "../data/litbank/overlap/3\n",
            "../data/litbank/overlap/3 ../data/litbank/overlap/3/test.512.jsonlines\n",
            "Found pretrained model!!\n",
            "mention_attn.weight torch.Size([1, 1024])\n",
            "mention_attn.bias torch.Size([1])\n",
            "span_width_embeddings.weight torch.Size([20, 20])\n",
            "span_width_prior_embeddings.weight torch.Size([20, 20])\n",
            "mention_mlp.fc_layers.0.weight torch.Size([3000, 3092])\n",
            "mention_mlp.fc_layers.0.bias torch.Size([3000])\n",
            "mention_mlp.fc_layers.3.weight torch.Size([1, 3000])\n",
            "mention_mlp.fc_layers.3.bias torch.Size([1])\n",
            "span_width_mlp.fc_layers.0.weight torch.Size([3000, 20])\n",
            "span_width_mlp.fc_layers.0.bias torch.Size([3000])\n",
            "span_width_mlp.fc_layers.3.weight torch.Size([1, 3000])\n",
            "span_width_mlp.fc_layers.3.bias torch.Size([1])\n",
            "memory_net.mem_coref_mlp.fc_layers.0.weight torch.Size([3000, 9336])\n",
            "memory_net.mem_coref_mlp.fc_layers.0.bias torch.Size([3000])\n",
            "memory_net.mem_coref_mlp.fc_layers.3.weight torch.Size([1, 3000])\n",
            "memory_net.mem_coref_mlp.fc_layers.3.bias torch.Size([1])\n",
            "memory_net.last_action_embeddings.weight torch.Size([5, 20])\n",
            "memory_net.distance_embeddings.weight torch.Size([10, 20])\n",
            "memory_net.counter_embeddings.weight torch.Size([10, 20])\n",
            "memory_net.fert_mlp.fc_layers.0.weight torch.Size([3000, 3152])\n",
            "memory_net.fert_mlp.fc_layers.0.bias torch.Size([3000])\n",
            "memory_net.fert_mlp.fc_layers.3.weight torch.Size([1, 3000])\n",
            "memory_net.fert_mlp.fc_layers.3.bias torch.Size([1])\n",
            "\n",
            "Total Params:46.83 (in millions)\n"
          ]
        },
        {
          "output_type": "stream",
          "name": "stderr",
          "text": [
            "2022-04-11 13:18:52,049 - Loading best model after epoch: 7\n",
            "2022-04-11 13:18:52,054 - \n",
            "\n",
            "2022-04-11 13:18:52,055 - Dev\n",
            "2022-04-11 13:19:19,940 - F-score: 67.0 , Precision: 80.4 , Recall: 58.8 \n",
            "2022-04-11 13:19:19,946 - Action accuracy: 0.720, Oracle F-score: 0.933\n",
            "2022-04-11 13:19:19,953 - ../models/coref_04657d4d68300a4a7cb80b08a21103ea/dev.log.jsonl\n",
            "2022-04-11 13:19:19,958 - Calculated F1: 67.000\n",
            "2022-04-11 13:19:19,961 - \n",
            "\n",
            "2022-04-11 13:19:19,965 - Test\n"
          ]
        },
        {
          "output_type": "stream",
          "name": "stdout",
          "text": [
            "Ground Truth Actions: defaultdict(<class 'int'>, {'i': 4329, 'o': 582, 'c': 1880})\n",
            "Predicted Actions: defaultdict(<class 'int'>, {'i': 4668, 'o': 335, 'c': 1788})\n"
          ]
        },
        {
          "output_type": "stream",
          "name": "stderr",
          "text": [
            "2022-04-11 13:19:50,064 - F-score: 65.3 , Precision: 82.8 , Recall: 55.4 \n",
            "2022-04-11 13:19:50,071 - Action accuracy: 0.695, Oracle F-score: 0.913\n",
            "2022-04-11 13:19:50,073 - ../models/coref_04657d4d68300a4a7cb80b08a21103ea/test.log.jsonl\n",
            "2022-04-11 13:19:50,105 - Final performance summary at ../models/coref_04657d4d68300a4a7cb80b08a21103ea/perf.json\n"
          ]
        },
        {
          "output_type": "stream",
          "name": "stdout",
          "text": [
            "Ground Truth Actions: defaultdict(<class 'int'>, {'o': 648, 'i': 4777, 'c': 1792})\n",
            "Predicted Actions: defaultdict(<class 'int'>, {'o': 347, 'i': 5263, 'c': 1607})\n"
          ]
        }
      ]
    },
    {
      "cell_type": "code",
      "source": [
        "#PAPER MENTION AND MEMORY, NEW COREF LITBANNK\n",
        "params ={'dataset': 'litbank','second_dataset' : 'litbank_person_only' ,'mem_type': 'learned', 'cross_val_split': 3, 'max_training_segments': 5, 'seed': 0,\n",
        "         'mention_model': 'paper_mention', 'trainer': None, 'delete': False, 'crossval': False,'eval' : True, \n",
        "         'eval_model':'test_new_coref', 'teacher_forcing' : True}\n",
        "best_model = main_class(params)\n",
        "best_model.run()"
      ],
      "metadata": {
        "colab": {
          "base_uri": "https://localhost:8080/"
        },
        "id": "YRhMNqm9sNg-",
        "outputId": "7d1a2f25-9d75-42fe-95cf-29a700b27283"
      },
      "execution_count": null,
      "outputs": [
        {
          "output_type": "stream",
          "name": "stderr",
          "text": [
            "2022-04-11 14:50:24,378 - dataset: litbank\n",
            "2022-04-11 14:50:24,381 - model_size: large\n",
            "2022-04-11 14:50:24,383 - doc_enc: overlap\n",
            "2022-04-11 14:50:24,384 - max_segment_len: 512\n",
            "2022-04-11 14:50:24,387 - max_span_width: 20\n",
            "2022-04-11 14:50:24,389 - ment_emb: attn\n",
            "2022-04-11 14:50:24,391 - top_span_ratio: 0.3\n",
            "2022-04-11 14:50:24,393 - mem_type: learned\n",
            "2022-04-11 14:50:24,394 - num_cells: 20\n",
            "2022-04-11 14:50:24,396 - mlp_size: 3000\n",
            "2022-04-11 14:50:24,398 - mlp_depth: 1\n",
            "2022-04-11 14:50:24,400 - entity_rep: wt_avg\n",
            "2022-04-11 14:50:24,401 - emb_size: 20\n",
            "2022-04-11 14:50:24,403 - cross_val_split: 3\n",
            "2022-04-11 14:50:24,405 - new_ent_wt: 2.0\n",
            "2022-04-11 14:50:24,407 - num_train_docs: None\n",
            "2022-04-11 14:50:24,408 - max_training_segments: 5\n",
            "2022-04-11 14:50:24,410 - sample_invalid: 0.25\n",
            "2022-04-11 14:50:24,412 - dropout_rate: 0.3\n",
            "2022-04-11 14:50:24,414 - label_smoothing_wt: 0.0\n",
            "2022-04-11 14:50:24,415 - seed: 0\n",
            "2022-04-11 14:50:24,417 - init_lr: 0.0002\n"
          ]
        },
        {
          "output_type": "stream",
          "name": "stdout",
          "text": [
            "../models/test_new_coref\n",
            "../data/litbank/overlap/3\n",
            "../models/paper_mention/best_models/model.pth\n",
            "../data/litbank/overlap/3\n",
            "../data/litbank/overlap/3 ../data/litbank/overlap/3/train.512.jsonlines\n",
            "../data/litbank/overlap/3\n",
            "../data/litbank/overlap/3 ../data/litbank/overlap/3/dev.512.jsonlines\n",
            "../data/litbank/overlap/3\n",
            "../data/litbank/overlap/3 ../data/litbank/overlap/3/test.512.jsonlines\n",
            "Found pretrained model!!\n",
            "mention_attn.weight torch.Size([1, 1024])\n",
            "mention_attn.bias torch.Size([1])\n",
            "span_width_embeddings.weight torch.Size([20, 20])\n",
            "span_width_prior_embeddings.weight torch.Size([20, 20])\n",
            "mention_mlp.fc_layers.0.weight torch.Size([3000, 3092])\n",
            "mention_mlp.fc_layers.0.bias torch.Size([3000])\n",
            "mention_mlp.fc_layers.3.weight torch.Size([1, 3000])\n",
            "mention_mlp.fc_layers.3.bias torch.Size([1])\n",
            "span_width_mlp.fc_layers.0.weight torch.Size([3000, 20])\n",
            "span_width_mlp.fc_layers.0.bias torch.Size([3000])\n",
            "span_width_mlp.fc_layers.3.weight torch.Size([1, 3000])\n",
            "span_width_mlp.fc_layers.3.bias torch.Size([1])\n",
            "memory_net.mem_coref_mlp.fc_layers.0.weight torch.Size([3000, 9336])\n",
            "memory_net.mem_coref_mlp.fc_layers.0.bias torch.Size([3000])\n",
            "memory_net.mem_coref_mlp.fc_layers.3.weight torch.Size([1, 3000])\n",
            "memory_net.mem_coref_mlp.fc_layers.3.bias torch.Size([1])\n",
            "memory_net.last_action_embeddings.weight torch.Size([5, 20])\n",
            "memory_net.distance_embeddings.weight torch.Size([10, 20])\n",
            "memory_net.counter_embeddings.weight torch.Size([10, 20])\n",
            "memory_net.fert_mlp.fc_layers.0.weight torch.Size([3000, 3152])\n",
            "memory_net.fert_mlp.fc_layers.0.bias torch.Size([3000])\n",
            "memory_net.fert_mlp.fc_layers.3.weight torch.Size([1, 3000])\n",
            "memory_net.fert_mlp.fc_layers.3.bias torch.Size([1])\n",
            "\n",
            "Total Params:46.83 (in millions)\n"
          ]
        },
        {
          "output_type": "stream",
          "name": "stderr",
          "text": [
            "2022-04-11 14:50:32,465 - Loading best model after epoch: 16\n",
            "2022-04-11 14:50:32,467 - \n",
            "\n",
            "2022-04-11 14:50:32,475 - Dev\n",
            "2022-04-11 14:51:00,479 - F-score: 72.1 , Precision: 79.0 , Recall: 66.3 \n",
            "2022-04-11 14:51:00,481 - Action accuracy: 0.647, Oracle F-score: 0.989\n",
            "2022-04-11 14:51:00,486 - ../models/test_new_coref/dev.log.jsonl\n",
            "2022-04-11 14:51:00,497 - Calculated F1: 72.100\n",
            "2022-04-11 14:51:00,499 - \n",
            "\n",
            "2022-04-11 14:51:00,502 - Test\n"
          ]
        },
        {
          "output_type": "stream",
          "name": "stdout",
          "text": [
            "Ground Truth Actions: defaultdict(<class 'int'>, {'i': 4123, 'o': 674, 'c': 1994})\n",
            "Predicted Actions: defaultdict(<class 'int'>, {'i': 4465, 'o': 253, 'c': 2068, 'n': 5})\n"
          ]
        },
        {
          "output_type": "stream",
          "name": "stderr",
          "text": [
            "2022-04-11 14:51:29,977 - F-score: 71.2 , Precision: 78.5 , Recall: 65.2 \n",
            "2022-04-11 14:51:29,984 - Action accuracy: 0.678, Oracle F-score: 0.980\n",
            "2022-04-11 14:51:29,986 - ../models/test_new_coref/test.log.jsonl\n",
            "2022-04-11 14:51:30,001 - Final performance summary at ../models/test_new_coref/perf.json\n"
          ]
        },
        {
          "output_type": "stream",
          "name": "stdout",
          "text": [
            "Ground Truth Actions: defaultdict(<class 'int'>, {'o': 787, 'i': 4517, 'c': 1913})\n",
            "Predicted Actions: defaultdict(<class 'int'>, {'o': 253, 'i': 5029, 'c': 1930, 'n': 5})\n"
          ]
        }
      ]
    },
    {
      "cell_type": "code",
      "source": [
        ""
      ],
      "metadata": {
        "id": "GnUEmcUWKohk"
      },
      "execution_count": null,
      "outputs": []
    }
  ]
}